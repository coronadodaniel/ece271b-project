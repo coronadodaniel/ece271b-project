{
 "cells": [
  {
   "cell_type": "code",
   "execution_count": 12,
   "metadata": {},
   "outputs": [
    {
     "name": "stdout",
     "output_type": "stream",
     "text": [
      "{'golf', 'biking', 'diving', 'shooting', 'tennis', 'riding', 'jumping', 'spiking', 'walk', 'swing', 'juggle'}\n",
      "['golf', 'biking', 'diving', 'shooting', 'tennis', 'riding', 'jumping', 'spiking', 'walk', 'swing', 'juggle']\n"
     ]
    }
   ],
   "source": [
    "import os\n",
    "import patoolib\n",
    "import urllib\n",
    "\n",
    "if not os.path.exists(\"UCF11_updated_mpg.rar\"): \n",
    "    u = \"http://crcv.ucf.edu/data/UCF11_updated_mpg.rar\"\n",
    "    urllib.request.urlretrieve (u, \"UCF11_updated_mpg.rar\")\n",
    "\n",
    "patoolib.extract_archive(\"UCF11_updated_mpg.rar\", outdir=\"\")\n",
    "dataset_folder = 'data/'\n",
    "\n",
    "files = os.listdir(dataset_folder)\n",
    "\n",
    "classes = set()\n",
    "for f in files: \n",
    "    fs = f.split('_')\n",
    "    if len(fs) > 1: \n",
    "        class_name = fs[1]\n",
    "        classes.add(class_name)\n",
    "    \n",
    "print(classes)\n",
    "print(list(classes))\n",
    "classes = list(classes)\n",
    "\n",
    "for c in classes: \n",
    "    if not os.path.isdir(dataset_folder+c): \n",
    "        os.makedirs(dataset_folder+c)\n",
    "\n",
    "    \n"
   ]
  },
  {
   "cell_type": "code",
   "execution_count": 13,
   "metadata": {},
   "outputs": [
    {
     "data": {
      "text/plain": [
       "True"
      ]
     },
     "execution_count": 13,
     "metadata": {},
     "output_type": "execute_result"
    }
   ],
   "source": [
    "os.path.exists(\"UCF11_updated_mpg.rar\")"
   ]
  },
  {
   "cell_type": "code",
   "execution_count": null,
   "metadata": {},
   "outputs": [],
   "source": []
  }
 ],
 "metadata": {
  "kernelspec": {
   "display_name": "Python 3",
   "language": "python",
   "name": "python3"
  },
  "language_info": {
   "codemirror_mode": {
    "name": "ipython",
    "version": 3
   },
   "file_extension": ".py",
   "mimetype": "text/x-python",
   "name": "python",
   "nbconvert_exporter": "python",
   "pygments_lexer": "ipython3",
   "version": "3.7.0"
  }
 },
 "nbformat": 4,
 "nbformat_minor": 2
}
